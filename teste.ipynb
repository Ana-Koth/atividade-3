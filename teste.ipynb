{
 "cells": [
  {
   "cell_type": "code",
   "execution_count": 3,
   "metadata": {},
   "outputs": [
    {
     "data": {
      "text/plain": [
       "[0.0, 0.49999999999999994, 0.7071067811865476, 0.8660254037844386, 1.0]"
      ]
     },
     "execution_count": 3,
     "metadata": {},
     "output_type": "execute_result"
    }
   ],
   "source": [
    "import numpy as np\n",
    "import matplotlib.pyplot as plt\n",
    "import math\n",
    "\n",
    "x =np.array([0,30,45,60,90])#converte para lista\n",
    "np.sin(2*np.pi*x/360)\n",
    "\n",
    "[math.sin(2*math.pi*i/360) for i in x]#converte para lista\n",
    "#math.sin(2*math.pi*x/360)"
   ]
  },
  {
   "cell_type": "code",
   "execution_count": null,
   "metadata": {},
   "outputs": [],
   "source": [
    "dentro = []\n",
    "x = [1,2,3, 4, 5, 6]\n",
    "y = [7,8,9,10,11,12]\n",
    "\n",
    "print('x:', x)\n",
    "print('y:', y)\n",
    "\n",
    "dentro.append([x[0],y[0]])\n",
    "\n",
    "dentro.append([x[3],y[3]])\n",
    "\n",
    "dentro.append([x[4],y[4]])\n",
    "\n",
    "dentro = np.array(dentro)\n",
    "\n",
    "print('Dentro:\\n', dentro)"
   ]
  }
 ],
 "metadata": {
  "kernelspec": {
   "display_name": "FisComp",
   "language": "python",
   "name": "python3"
  },
  "language_info": {
   "codemirror_mode": {
    "name": "ipython",
    "version": 3
   },
   "file_extension": ".py",
   "mimetype": "text/x-python",
   "name": "python",
   "nbconvert_exporter": "python",
   "pygments_lexer": "ipython3",
   "version": "3.13.2"
  }
 },
 "nbformat": 4,
 "nbformat_minor": 2
}
