{
 "cells": [
  {
   "cell_type": "markdown",
   "metadata": {},
   "source": [
    "#Atividade 3#\n",
    "\n",
    "1. π via Monte Carlo (etapa 1) Considere um círculo de raio r=1 inscrito em um quadrado de lado 2r=2. A área do círculo é πr2=π. A área do quadrado é 4. A razão entre a área do círculo e a área do quadrado é π/4. Se gerarmos N pontos aleatórios uniformemente distribuídos no quadrado, a fração de pontos que cairão dentro do círculo será π/4. Assim, podemos estimar π como 4 vezes a fração de pontos que caíram dentro do círculo. Como visto em aula, pode considerar o círculo e quadrados completos, ou apenas o primeiro quadrante. Varie o número de pontos sorteados N para ver como o resultado muda. "
   ]
  },
  {
   "cell_type": "code",
   "execution_count": null,
   "metadata": {},
   "outputs": [
    {
     "name": "stdout",
     "output_type": "stream",
     "text": [
      "3.13776\n"
     ]
    }
   ],
   "source": [
    "import numpy as np\n",
    "def pi_monte_carlo(N):\n",
    "    '''\n",
    "    Calcula uma estimativa de pi usando o método de Monte Carlo.\n",
    "    Temos um círculo de raio 1 inscrito em um quadrado de lado 2.\n",
    "    A área considerada é a do primeiro quadrante do círculo.\n",
    "    A área do círculo é pi*r^2 e a do quadrado é (2r)^2 = 4.\n",
    "\n",
    "    Args:\n",
    "        N: número de pontos a serem gerados.\n",
    "        Ac: Área do círculo.\n",
    "        Aq: Área do quadrado.\n",
    "        estimativa_pi: estimativa de pi.\n",
    "    Returns:    \n",
    "        estimativa_pi: estimativa de pi.\n",
    "    '''\n",
    "\n",
    "rng = np.random.default_rng(seed=42)#Gera números aleatórios\n",
    "N = 100000 #Quantidade de números aleatórios gerados\n",
    "x = rng.uniform(0,1,N) #pontos no eixo x\n",
    "y = rng.uniform(0,1, N) #pontos no eixo y\n",
    "r = np.sqrt(x**2 + y**2)\n",
    "dentro = r[r <= 1]\n",
    "estimativa_pi = 4*len(dentro)/N\n",
    "print(estimativa_pi)\n",
    "\n",
    "#Teste\n",
    "pi_monte_carlo(200000) #Teste da função \n",
    "\n",
    "\n",
    "\n"
   ]
  },
  {
   "cell_type": "code",
   "execution_count": 11,
   "metadata": {},
   "outputs": [
    {
     "ename": "IndentationError",
     "evalue": "unindent does not match any outer indentation level (<string>, line 67)",
     "output_type": "error",
     "traceback": [
      "\u001b[1;36m  File \u001b[1;32m<string>:67\u001b[1;36m\u001b[0m\n\u001b[1;33m    else:\u001b[0m\n\u001b[1;37m         ^\u001b[0m\n\u001b[1;31mIndentationError\u001b[0m\u001b[1;31m:\u001b[0m unindent does not match any outer indentation level\n"
     ]
    }
   ],
   "source": [
    "import numpy as np\n",
    "import matplotlib.pyplot as plt\n",
    "def pi_monte_carlo(N, retorna_pontos = False):\n",
    "    '''\n",
    "    Calcula uma estimativa de pi usando o método de Monte Carlo.\n",
    "    Temos um círculo de raio 1 inscrito em um quadrado de lado 2.\n",
    "    A área considerada é a do primeiro quadrante do círculo.\n",
    "    A área do círculo é pi*r^2 e a do quadrado é (2r)^2 = 4.\n",
    "\n",
    "\n",
    "    Args:\n",
    "        N: número de pontos a serem gerados.\n",
    "        Ac: Área do círculo.\n",
    "        Aq: Área do quadrado.\n",
    "        estimativa_pi: estimativa de pi.\n",
    "    Returns:    \n",
    "        estimativa_pi: estimativa de pi.\n",
    "        Plota gráfico com os números aleatórios\n",
    "    '''\n",
    "\n",
    "\n",
    "\n",
    "\n",
    "rng = np.random.default_rng(seed=42)#Gera números aleatórios\n",
    "N = 100000 #Quantidade de números aleatórios gerados\n",
    "x = rng.uniform(0,1,N) #pontos no eixo x\n",
    "y = rng.uniform(0,1, N) #pontos no eixo y\n",
    "r = np.sqrt(x**2 + y**2)\n",
    "dentro = r[r <= 1]\n",
    "estimativa_pi = 4*len(dentro)/N\n",
    "print(estimativa_pi)\n",
    "\n",
    "#Gráfico\n",
    "\n",
    "#lista para os pontos\n",
    "\n",
    "dentro = []\n",
    "fora = []\n",
    "dentro.append(r<1)\n",
    "x[dentro] #pontos dentro = true\n",
    "\n",
    "\n",
    "#Arrumar eixos:\n",
    "#caso 1 (todos os eixos)\n",
    "#  plt.plot(...)\n",
    "#  plt.gca().set_aspect('equal')\n",
    "\n",
    "#caso 2 (cada eixo)\n",
    "#  ax.plot(...)\n",
    "#  ax.set_aspect('equal')\n",
    "\n",
    "#Gráfico do círculo\n",
    "t = np.linspace(0,1, 200)\n",
    "xc= np.cos(t)\n",
    "yc=np.sin(t)\n",
    "\n",
    "plt.plot(xc,yc, color='black') #Plota o gráfico com a cor preta\n",
    "plt.plot()\n",
    "plt.gca().set_aspect('equal')\n",
    "\n",
    "\n",
    "\n",
    "\n",
    "#retorna pontos\n",
    "if retorna_pontos:\n",
    "      return estimativa_pi, dentro, fora\n",
    "    else:\n",
    "        return estimativa_pi\n",
    "\n",
    "#Teste\n",
    "pi_monte_carlo(200000) #Teste da função "
   ]
  },
  {
   "cell_type": "code",
   "execution_count": null,
   "metadata": {},
   "outputs": [],
   "source": [
    "x = []\n",
    "y = []\n",
    "\n",
    "\n",
    "dentro.append[(x,y)]"
   ]
  }
 ],
 "metadata": {
  "kernelspec": {
   "display_name": "FisComp",
   "language": "python",
   "name": "python3"
  },
  "language_info": {
   "codemirror_mode": {
    "name": "ipython",
    "version": 3
   },
   "file_extension": ".py",
   "mimetype": "text/x-python",
   "name": "python",
   "nbconvert_exporter": "python",
   "pygments_lexer": "ipython3",
   "version": "3.13.2"
  }
 },
 "nbformat": 4,
 "nbformat_minor": 2
}
