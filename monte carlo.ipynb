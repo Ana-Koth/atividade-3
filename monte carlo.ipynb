{
 "cells": [
  {
   "cell_type": "markdown",
   "metadata": {},
   "source": [
    "#Atividade 3#\n",
    "\n",
    "1. π via Monte Carlo (etapa 1) Considere um círculo de raio r=1 inscrito em um quadrado de lado 2r=2. A área do círculo é πr2=π. A área do quadrado é 4. A razão entre a área do círculo e a área do quadrado é π/4. Se gerarmos N pontos aleatórios uniformemente distribuídos no quadrado, a fração de pontos que cairão dentro do círculo será π/4. Assim, podemos estimar π como 4 vezes a fração de pontos que caíram dentro do círculo. Como visto em aula, pode considerar o círculo e quadrados completos, ou apenas o primeiro quadrante. Varie o número de pontos sorteados N para ver como o resultado muda. "
   ]
  },
  {
   "cell_type": "code",
   "execution_count": null,
   "metadata": {},
   "outputs": [
    {
     "name": "stdout",
     "output_type": "stream",
     "text": [
      "3.13776\n"
     ]
    }
   ],
   "source": [
    "import numpy as np\n",
    "def pi_monte_carlo(N):\n",
    "    '''\n",
    "    Calcula uma estimativa de pi usando o método de Monte Carlo.\n",
    "    Temos um círculo de raio 1 inscrito em um quadrado de lado 2.\n",
    "    A área considerada é a do primeiro quadrante do círculo.\n",
    "    A área do círculo é pi*r^2 e a do quadrado é (2r)^2 = 4.\n",
    "\n",
    "    Args:\n",
    "        N: número de pontos a serem gerados.\n",
    "        Ac: Área do círculo.\n",
    "        Aq: Área do quadrado.\n",
    "        estimativa_pi: estimativa de pi.\n",
    "    Returns:    \n",
    "        estimativa_pi: estimativa de pi.\n",
    "    '''\n",
    "\n",
    "rng = np.random.default_rng(seed=42)#Gera números aleatórios\n",
    "N = 100000 #Quantidade de números aleatórios gerados\n",
    "x = rng.uniform(0,1,N) #pontos no eixo x\n",
    "y = rng.uniform(0,1, N) #pontos no eixo y\n",
    "r = np.sqrt(x**2 + y**2)\n",
    "dentro = r[r <= 1]\n",
    "estimativa_pi = 4*len(dentro)/N\n",
    "print(estimativa_pi)\n",
    "\n",
    "#Teste\n",
    "pi_monte_carlo(200000) #Teste da função \n",
    "\n",
    "\n",
    "\n"
   ]
  },
  {
   "cell_type": "code",
   "execution_count": null,
   "metadata": {},
   "outputs": [
    {
     "ename": "IndentationError",
     "evalue": "unindent does not match any outer indentation level (<string>, line 51)",
     "output_type": "error",
     "traceback": [
      "\u001b[1;36m  File \u001b[1;32m<string>:51\u001b[1;36m\u001b[0m\n\u001b[1;33m    else:\u001b[0m\n\u001b[1;37m         ^\u001b[0m\n\u001b[1;31mIndentationError\u001b[0m\u001b[1;31m:\u001b[0m unindent does not match any outer indentation level\n"
     ]
    }
   ],
   "source": [
    "import numpy as np\n",
    "import matplotlib.pyplot as plt\n",
    "def pi_monte_carlo(N, retorna_pontos = False):\n",
    "    '''\n",
    "    Calcula uma estimativa de pi usando o método de Monte Carlo.\n",
    "    Temos um círculo de raio 1 inscrito em um quadrado de lado 2.\n",
    "    A área considerada é a do primeiro quadrante do círculo.\n",
    "    A área do círculo é pi*r^2 e a do quadrado é (2r)^2 = 4.\n",
    "\n",
    "\n",
    "    Args:\n",
    "        N: número de pontos a serem gerados.\n",
    "        Ac: Área do círculo.\n",
    "        Aq: Área do quadrado.\n",
    "        estimativa_pi: estimativa de pi.\n",
    "    Returns:    \n",
    "        estimativa_pi: estimativa de pi.\n",
    "        Plota gráfico com os números aleatórios\n",
    "    '''\n",
    "\n",
    "\n",
    "\n",
    "\n",
    "rng = np.random.default_rng(seed=42)#Gera números aleatórios\n",
    "N = 100000 #Quantidade de números aleatórios gerados\n",
    "x = rng.uniform(0,1,N) #pontos no eixo x\n",
    "y = rng.uniform(0,1, N) #pontos no eixo y\n",
    "r = np.sqrt(x**2 + y**2)\n",
    "dentro = r[r <= 1]\n",
    "estimativa_pi = 4*len(dentro)/N\n",
    "print(estimativa_pi)\n",
    "\n",
    "#Gráfico\n",
    "for retot\n",
    " retorna_ponto.append([x[0],y[0]])\n",
    "dentro = [] #lista para os pontos\n",
    "fora = []\n",
    "dentro.append(r<1)\n",
    "x[dentro] #pontos dentro = true\n",
    "y[dentro]\n",
    "dentro = np.array(dentro)\n",
    "x = np.linspace(0 ,1,  200)\n",
    "y = np.linspace(0 ,1,  200)\n",
    "\n",
    "plt.plot(x,y, color='red') #Plota o gráfico com a cor preta\n",
    "plt.plot()\n",
    "plt.gca().set_aspect('equal')\n",
    "\n",
    "#retorna pontos\n",
    "if retorna_pontos:\n",
    "      return estimativa_pi, dentro, fora\n",
    "    else:\n",
    "        return estimativa_pi\n",
    "\n",
    "#Arrumar eixos:\n",
    "#caso 1 (todos os eixos)\n",
    "#  plt.plot(...)\n",
    "#  plt.gca().set_aspect('equal')\n",
    "\n",
    "#caso 2 (cada eixo)\n",
    "#  ax.plot(...)\n",
    "#  ax.set_aspect('equal')\n",
    "\n",
    "\n",
    "\n",
    "\n",
    "#Teste\n",
    "pi_monte_carlo(200000) #Teste da função "
   ]
  },
  {
   "cell_type": "code",
   "execution_count": 39,
   "metadata": {},
   "outputs": [
    {
     "name": "stdout",
     "output_type": "stream",
     "text": [
      "x: [1, 2, 3, 4, 5, 6]\n",
      "y: [7, 8, 9, 10, 11, 12]\n",
      "Dentro:\n",
      " [[ 1  7]\n",
      " [ 4 10]\n",
      " [ 5 11]]\n"
     ]
    }
   ],
   "source": [
    "dentro = []\n",
    "x = [1,2,3, 4, 5, 6]\n",
    "y = [7,8,9,10,11,12]\n",
    "\n",
    "print('x:', x)\n",
    "print('y:', y)\n",
    "\n",
    "dentro.append([x[0],y[0]])\n",
    "\n",
    "dentro.append([x[3],y[3]])\n",
    "\n",
    "dentro.append([x[4],y[4]])\n",
    "\n",
    "dentro = np.array(dentro)\n",
    "\n",
    "print('Dentro:\\n', dentro)"
   ]
  },
  {
   "cell_type": "code",
   "execution_count": 40,
   "metadata": {},
   "outputs": [
    {
     "data": {
      "text/plain": [
       "(3, 2)"
      ]
     },
     "execution_count": 40,
     "metadata": {},
     "output_type": "execute_result"
    }
   ],
   "source": [
    "dentro.shape"
   ]
  },
  {
   "cell_type": "code",
   "execution_count": 41,
   "metadata": {},
   "outputs": [
    {
     "data": {
      "text/plain": [
       "array([1, 4, 5])"
      ]
     },
     "execution_count": 41,
     "metadata": {},
     "output_type": "execute_result"
    }
   ],
   "source": [
    "dentro[:, 0]"
   ]
  },
  {
   "cell_type": "code",
   "execution_count": 42,
   "metadata": {},
   "outputs": [
    {
     "data": {
      "text/plain": [
       "array([ 7, 10, 11])"
      ]
     },
     "execution_count": 42,
     "metadata": {},
     "output_type": "execute_result"
    }
   ],
   "source": [
    "dentro[:, 1]"
   ]
  },
  {
   "cell_type": "code",
   "execution_count": 43,
   "metadata": {},
   "outputs": [
    {
     "data": {
      "text/plain": [
       "array([1, 7])"
      ]
     },
     "execution_count": 43,
     "metadata": {},
     "output_type": "execute_result"
    }
   ],
   "source": [
    "dentro[0,:]"
   ]
  },
  {
   "cell_type": "code",
   "execution_count": 44,
   "metadata": {},
   "outputs": [
    {
     "data": {
      "text/plain": [
       "array([ 4, 10])"
      ]
     },
     "execution_count": 44,
     "metadata": {},
     "output_type": "execute_result"
    }
   ],
   "source": [
    "dentro[1,:]"
   ]
  },
  {
   "cell_type": "code",
   "execution_count": null,
   "metadata": {},
   "outputs": [],
   "source": []
  }
 ],
 "metadata": {
  "kernelspec": {
   "display_name": "FisComp",
   "language": "python",
   "name": "python3"
  },
  "language_info": {
   "codemirror_mode": {
    "name": "ipython",
    "version": 3
   },
   "file_extension": ".py",
   "mimetype": "text/x-python",
   "name": "python",
   "nbconvert_exporter": "python",
   "pygments_lexer": "ipython3",
   "version": "3.13.2"
  }
 },
 "nbformat": 4,
 "nbformat_minor": 2
}
