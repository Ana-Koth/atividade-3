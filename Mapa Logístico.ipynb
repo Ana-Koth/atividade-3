{
 "cells": [
  {
   "cell_type": "markdown",
   "metadata": {},
   "source": [
    "Mapa Logístico\n",
    "O mapa logístico é definido pela equação onde xn é a população (normalizada entre 0 e 1) no instante de tempo discreto n, e r é o parâmetro de crescimento. Para um dado valor de r, a população xn pode convergir para um valor fixo, oscilar entre dois valores, ou oscilar entre mais de dois valores, ou simplesmente enlouquecer e parecer aleatório."
   ]
  },
  {
   "cell_type": "code",
   "execution_count": null,
   "metadata": {},
   "outputs": [
    {
     "ename": "NameError",
     "evalue": "name 'x' is not defined",
     "output_type": "error",
     "traceback": [
      "\u001b[1;31m---------------------------------------------------------------------------\u001b[0m",
      "\u001b[1;31mNameError\u001b[0m                                 Traceback (most recent call last)",
      "Cell \u001b[1;32mIn[55], line 31\u001b[0m\n\u001b[0;32m     29\u001b[0m \u001b[38;5;66;03m#Gráfico\u001b[39;00m\n\u001b[0;32m     30\u001b[0m plt\u001b[38;5;241m.\u001b[39mfigure(figsize\u001b[38;5;241m=\u001b[39m(\u001b[38;5;241m6\u001b[39m,\u001b[38;5;241m6\u001b[39m))\n\u001b[1;32m---> 31\u001b[0m plt\u001b[38;5;241m.\u001b[39mscatter(x, i, color\u001b[38;5;241m=\u001b[39m\u001b[38;5;124m'\u001b[39m\u001b[38;5;124mblue\u001b[39m\u001b[38;5;124m'\u001b[39m, s\u001b[38;5;241m=\u001b[39m\u001b[38;5;241m2\u001b[39m) \n\u001b[0;32m     32\u001b[0m plt\u001b[38;5;241m.\u001b[39mxlabel(\u001b[38;5;124m'\u001b[39m\u001b[38;5;124mn\u001b[39m\u001b[38;5;124m'\u001b[39m)\n\u001b[0;32m     33\u001b[0m plt\u001b[38;5;241m.\u001b[39mylabel(\u001b[38;5;124m'\u001b[39m\u001b[38;5;124mx\u001b[39m\u001b[38;5;124m'\u001b[39m)\n",
      "\u001b[1;31mNameError\u001b[0m: name 'x' is not defined"
     ]
    },
    {
     "data": {
      "text/plain": [
       "<Figure size 600x600 with 0 Axes>"
      ]
     },
     "metadata": {},
     "output_type": "display_data"
    }
   ],
   "source": [
    "import numpy as np\n",
    "import matplotlib.pyplot as plt\n",
    "\n",
    "def mapa_logistico(r, x0, N):\n",
    "    '''Calcula o mapa logistico para um valor de r e condição inicial x0\n",
    "       e retorna os ultimos N valores da sequencia\n",
    "\n",
    "     ARGS:\n",
    "     r: float\n",
    "     x0: float\n",
    "     N: int\n",
    "\n",
    "\n",
    "     RETURNS:\n",
    "     x: array'''\n",
    "\n",
    "#Equação\n",
    "    x = np.zeros(N)    \n",
    "    x[0] = x0\n",
    "    x0 = 0.5\n",
    "    r = 2\n",
    "    N = 10000\n",
    "\n",
    "    for i in range(N):\n",
    "      x[i] = r*x[i-1]*(1-x[i-1])\n",
    "     plt.scatter(x, i, color='blue', s=2) \n",
    "    return x[N]\n",
    "\n",
    "#Gráfico\n",
    "plt.figure(figsize=(6,6))\n",
    "plt.xlabel('n')\n",
    "plt.ylabel('x')\n",
    "plt.title('Mapa logístico')\n",
    "plt.show()\n",
    "\n"
   ]
  }
 ],
 "metadata": {
  "kernelspec": {
   "display_name": "FisComp",
   "language": "python",
   "name": "python3"
  },
  "language_info": {
   "codemirror_mode": {
    "name": "ipython",
    "version": 3
   },
   "file_extension": ".py",
   "mimetype": "text/x-python",
   "name": "python",
   "nbconvert_exporter": "python",
   "pygments_lexer": "ipython3",
   "version": "3.13.2"
  }
 },
 "nbformat": 4,
 "nbformat_minor": 2
}
