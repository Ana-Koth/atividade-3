{
 "cells": [
  {
   "cell_type": "markdown",
   "metadata": {},
   "source": [
    "Mapa Logístico\n",
    "Mapa logístico, caos e fractais (etapa 1) O mapa logístico é definido pela equação xn+1=rxn(1−xn), onde xn é a população (normalizada entre 0 e 1) no instante de tempo discreto n, e r é o parâmetro de crescimento. Para um dado valor de r, a população xn pode convergir para um valor fixo, oscilar entre dois valores, ou oscilar entre mais de dois valores, ou simplesmente enlouquecer e parecer aleatório.\n",
    "\n",
    "a) Implemente uma função mapa_logistico(r, x0, N) que recebe o parâmetro de crescimento r, a condição inicial x0 (i.e. x0 para n=0), e o número deiterações N, e retorna uma lista com os valores de xn para n=0,1,2,…,N.\n",
    "\n",
    "b) Faça gráficos de xn vs n (de 0 a 200 ou 300) para r=2,3.3,3.5,3.9, sempre iniciando de x0=0.3. Talvez seja melhor usar um gráfico de linhas (plt.plot) para r=2, e um gráfico de pontos (plt.scatter) para os outros valores de r . O que você observa?"
   ]
  },
  {
   "cell_type": "code",
   "execution_count": null,
   "metadata": {},
   "outputs": [
    {
     "ename": "IndentationError",
     "evalue": "unindent does not match any outer indentation level (<string>, line 7)",
     "output_type": "error",
     "traceback": [
      "\u001b[1;36m  File \u001b[1;32m<string>:7\u001b[1;36m\u001b[0m\n\u001b[1;33m    return x\u001b[0m\n\u001b[1;37m            ^\u001b[0m\n\u001b[1;31mIndentationError\u001b[0m\u001b[1;31m:\u001b[0m unindent does not match any outer indentation level\n"
     ]
    }
   ],
   "source": [
    "#Etapa 1\n",
    "import numpy as np\n",
    "import matplotlib.pyplot as plt\n",
    "\n",
    "def mapa(r,x0,N):\n",
    "  ''' Calcula o mapa logistico para um valor de r e condição inicial x0\n",
    "    e retorna os valores da sequência para um determinado r e N.\n",
    "\n",
    "       ARGS:\n",
    "        r: float\n",
    "        x0: float\n",
    "        N: int\n",
    "\n",
    "\n",
    "       RETURNS:\n",
    "       x: array\n",
    "       grafico do mapa logistico\n",
    "  '''\n",
    "  #Função\n",
    "  x = np.zeros(N+1) #Cria lista de vetores com apenas zeros contidos\n",
    "  x[0] = x0\n",
    "  for i in range(N):\n",
    "     x[i+1] = r*x[i]*(1-x[i])\n",
    "  return x\n",
    "\n",
    "#Gráficos\n",
    "def Gráfico(valores_r,x0=0.3,N=200):\n",
    "  '''\n",
    "  '''\n",
    "  plt.figure(figsize=(12,6))\n",
    "\n",
    "\n",
    "  for i , r in enumerate(valores_r):\n",
    "    x = mapa(r,x0,N)\n",
    "\n",
    "    plt.subplot(2,3,i+1)\n",
    "\n",
    "    if r==2:\n",
    "      plt.plot(range(N+1),x, '-b', label=f'r= {r}') #plotar gráfico em linha\n",
    "    else:\n",
    "      plt.scatter(range(N+1),x, s=5, c = 'r', label=f'r= {r}') #plotar gráfico em pontos\n",
    "\n",
    "    plt.title(f'Mapa logístico para r={r}')\n",
    "    plt.xlabel('nº de interações')\n",
    "    plt.ylabel('x(n)')\n",
    "    plt.legend()\n",
    "    plt.grid(True,alpha=0.3)\n",
    "\n",
    "  plt.tight_layout()\n",
    "  plt.show()\n",
    "\n",
    "#Valores para r\n",
    "r_valores = [2,3,3.3,3.5,3.9]\n",
    "#Plota gráficos\n",
    "Gráfico(r_valores)\n",
    "\n",
    "#Análise dos gráficos\n",
    "print('Análise dos Gráficos:')\n",
    "print('Gráfico 1: Apresenta valores de uma função linear')\n",
    "print('Gráfico 2: Mostra que os resultados então variando entre dois valores')\n",
    "print('Gráfico 3: Nele, vemos os valores se bifurcando entre dois valores')\n",
    "print('Gráfico 4: Vemos a bifurcação ocorrer mais uma vez, agora, temos quatro valores diferentes')\n",
    "print('Gráfico 5: Não há consistência nos resultados obtidos')\n"
   ]
  },
  {
   "cell_type": "code",
   "execution_count": null,
   "metadata": {},
   "outputs": [
    {
     "ename": "TypeError",
     "evalue": "mapa_logistico() missing 1 required positional argument: 'N'",
     "output_type": "error",
     "traceback": [
      "\u001b[1;31m---------------------------------------------------------------------------\u001b[0m",
      "\u001b[1;31mTypeError\u001b[0m                                 Traceback (most recent call last)",
      "Cell \u001b[1;32mIn[33], line 14\u001b[0m\n\u001b[0;32m     12\u001b[0m \u001b[38;5;66;03m# pulando o tempo de transiente\u001b[39;00m\n\u001b[0;32m     13\u001b[0m \u001b[38;5;28;01mfor\u001b[39;00m \u001b[38;5;28miter\u001b[39m \u001b[38;5;129;01min\u001b[39;00m \u001b[38;5;28mrange\u001b[39m(transient):\n\u001b[1;32m---> 14\u001b[0m     x0 \u001b[38;5;241m=\u001b[39m mapa_logistico(x0, r)\n\u001b[0;32m     16\u001b[0m \u001b[38;5;66;03m# após pular o transiente, salvamos os pontos nos dois arrays\u001b[39;00m\n\u001b[0;32m     17\u001b[0m \u001b[38;5;66;03m# chamados eixo_horizontal e eixo_vertical\u001b[39;00m\n\u001b[0;32m     18\u001b[0m \u001b[38;5;28;01mfor\u001b[39;00m \u001b[38;5;28miter\u001b[39m \u001b[38;5;129;01min\u001b[39;00m \u001b[38;5;28mrange\u001b[39m(maxiter):\n",
      "\u001b[1;31mTypeError\u001b[0m: mapa_logistico() missing 1 required positional argument: 'N'"
     ]
    }
   ],
   "source": [
    "#Lista dos valores de xn\n",
    "print('Pontos do Gráfico 1:')\n",
    "print(mapa(2,0.3,200))\n",
    "print()\n",
    "\n",
    "print('Pontos do Gráfico 2:')\n",
    "print(mapa(3,0.3,200))\n",
    "print()\n",
    "\n",
    "print('Pontos do Gráfico 3:')\n",
    "print(mapa(3.3,0.3,200))\n",
    "print()\n",
    "\n",
    "print('Pontos do Gráfico 4:')\n",
    "print(mapa(3.5,0.3,200))\n",
    "print()\n",
    "\n",
    "print('Pontos do Gráfico 5:')\n",
    "print(mapa(3.9,0.3,200))\n",
    "print()\n"
   ]
  },
  {
   "cell_type": "markdown",
   "metadata": {},
   "source": [
    "(etapa 2) Nesta etapa iremos utilizar apenas os últimos M valores de xn gerados pela sua função mapa_logistico(r, x0, N)"
   ]
  },
  {
   "cell_type": "code",
   "execution_count": null,
   "metadata": {},
   "outputs": [],
   "source": [
    "#Etapa 2\n",
    "#Gráfico útimos pontos\n",
    "import numpy as np\n",
    "import matplotlib.pyplot as plt\n",
    "\n",
    "\n",
    "def mapa_logistico(r,x0,N):\n",
    "  ''' Calcula o mapa logistico para um valor de r e condição inicial x0\n",
    "    e retorna os ultimos N valores da sequencia\n",
    "\n",
    "       ARGS:\n",
    "        r: float\n",
    "        x0: float\n",
    "        N: int\n",
    "\n",
    "\n",
    "       RETURNS:\n",
    "       x: array\n",
    "       Grafico dos útimos números do mapa logistico\n",
    "  '''\n",
    "  x = np.zeros(N+1)\n",
    "  x[0] = x0\n",
    "  for i in range(N):\n",
    "     x[i+1] = r*x[i]*(1-x[i])\n",
    "  return x\n",
    "\n",
    "#Valores da simulação\n",
    "M = 2000 #N° de pontos plotados\n",
    "N = 10000 # E aqui o numero de geracoes\n",
    "x0 = 0.5 #Insere a o valor inicial da populacao\n",
    "\n",
    "# Gráfico\n",
    "plt.figure(figsize=(12,6))\n",
    "plt.xlabel('r')\n",
    "plt.ylabel('x0')\n",
    "plt.title('Mapa logístico')\n",
    "plt.grid(True,alpha=0.3)\n",
    "\n",
    "#Valores do Gráfico\n",
    "for r in np.arange(1.0,4.01, 0.01):\n",
    "  x = mapa_logistico(r,x0,N)\n",
    "\n",
    "  plt.plot(r*np.ones(M), x[-M:],'k.', markersize= 0.2, alpha=0.2)\n",
    "\n",
    "\n",
    "plt.show()"
   ]
  }
 ],
 "metadata": {
  "kernelspec": {
   "display_name": "FisComp",
   "language": "python",
   "name": "python3"
  },
  "language_info": {
   "codemirror_mode": {
    "name": "ipython",
    "version": 3
   },
   "file_extension": ".py",
   "mimetype": "text/x-python",
   "name": "python",
   "nbconvert_exporter": "python",
   "pygments_lexer": "ipython3",
   "version": "3.13.2"
  }
 },
 "nbformat": 4,
 "nbformat_minor": 2
}
