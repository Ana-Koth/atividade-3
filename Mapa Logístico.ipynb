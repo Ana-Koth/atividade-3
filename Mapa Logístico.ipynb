{
 "cells": [
  {
   "cell_type": "markdown",
   "metadata": {},
   "source": [
    "Mapa Logístico\n",
    "O mapa logístico é definido pela equação onde xn é a população (normalizada entre 0 e 1) no instante de tempo discreto n, e r é o parâmetro de crescimento. Para um dado valor de r, a população xn pode convergir para um valor fixo, oscilar entre dois valores, ou oscilar entre mais de dois valores, ou simplesmente enlouquecer e parecer aleatório."
   ]
  },
  {
   "cell_type": "code",
   "execution_count": 39,
   "metadata": {},
   "outputs": [
    {
     "ename": "IndentationError",
     "evalue": "unindent does not match any outer indentation level (<string>, line 7)",
     "output_type": "error",
     "traceback": [
      "\u001b[1;36m  File \u001b[1;32m<string>:7\u001b[1;36m\u001b[0m\n\u001b[1;33m    return x\u001b[0m\n\u001b[1;37m            ^\u001b[0m\n\u001b[1;31mIndentationError\u001b[0m\u001b[1;31m:\u001b[0m unindent does not match any outer indentation level\n"
     ]
    }
   ],
   "source": [
    "import numpy as np\n",
    "import matplotlib.pyplot as plt\n",
    "\n",
    "\n",
    "def mapa(x0,r):\n",
    "     x = r*x0*(1-x0)\n",
    "   return x\n",
    "\n",
    "\n",
    "def mapa_logistico(x0, r, N):\n",
    "    '''Calcula o mapa logistico para um valor de r e condição inicial x0\n",
    "       e retorna os ultimos N valores da sequencia\n",
    "\n",
    "     ARGS:\n",
    "     r: float\n",
    "     x0: float\n",
    "     N: int\n",
    "\n",
    "\n",
    "     RETURNS:\n",
    "     x: array'''\n",
    "\n",
    "from pylab import *\n",
    "#Equação\n",
    "    x = np.zeros(N+1) #cria um vetor de zeros com N elementos    \n",
    "    x[0] = x0\n",
    "    x0 = 0.5 #Insere a o valor inicial da populacao\n",
    "    r = 2\n",
    "    N = 10000 # E aqui o numero de geracoes\n",
    "\n",
    "    for i in range(N):\n",
    "      x[i] = r*x[i-1]*(1-x[i-1])\n",
    "      x.append( r*x[i]*(1-x[i]) )\n",
    "    return x\n",
    "\n",
    " \n",
    "# Gráfico\n",
    "plt.figure(figsize=(6,6))\n",
    "plt.xlabel('n')\n",
    "plt.ylabel('x')\n",
    "plt.title('Mapa logístico')\n",
    "plt.plot(x , i , linewidth=2)\n",
    "plt.ylim((0,1))\n",
    "plt.show()\n",
    "\n",
    "\n",
    "\n"
   ]
  },
  {
   "cell_type": "code",
   "execution_count": 33,
   "metadata": {},
   "outputs": [
    {
     "ename": "TypeError",
     "evalue": "mapa_logistico() missing 1 required positional argument: 'N'",
     "output_type": "error",
     "traceback": [
      "\u001b[1;31m---------------------------------------------------------------------------\u001b[0m",
      "\u001b[1;31mTypeError\u001b[0m                                 Traceback (most recent call last)",
      "Cell \u001b[1;32mIn[33], line 14\u001b[0m\n\u001b[0;32m     12\u001b[0m \u001b[38;5;66;03m# pulando o tempo de transiente\u001b[39;00m\n\u001b[0;32m     13\u001b[0m \u001b[38;5;28;01mfor\u001b[39;00m \u001b[38;5;28miter\u001b[39m \u001b[38;5;129;01min\u001b[39;00m \u001b[38;5;28mrange\u001b[39m(transient):\n\u001b[1;32m---> 14\u001b[0m     x0 \u001b[38;5;241m=\u001b[39m mapa_logistico(x0, r)\n\u001b[0;32m     16\u001b[0m \u001b[38;5;66;03m# após pular o transiente, salvamos os pontos nos dois arrays\u001b[39;00m\n\u001b[0;32m     17\u001b[0m \u001b[38;5;66;03m# chamados eixo_horizontal e eixo_vertical\u001b[39;00m\n\u001b[0;32m     18\u001b[0m \u001b[38;5;28;01mfor\u001b[39;00m \u001b[38;5;28miter\u001b[39m \u001b[38;5;129;01min\u001b[39;00m \u001b[38;5;28mrange\u001b[39m(maxiter):\n",
      "\u001b[1;31mTypeError\u001b[0m: mapa_logistico() missing 1 required positional argument: 'N'"
     ]
    }
   ],
   "source": [
    "r_list = np.linspace(1, 4, 1000)\n",
    "N= 1000 # número de iterações\n",
    "transient = 1000 # número de iterações para pular o transiente\n",
    "\n",
    "# criamos dois arrays que salvarão os resultados obtidos\n",
    "eixo_horizontal = np.zeros(len(r_list)*N)\n",
    "eixo_vertical = np.zeros(len(r_list)*N)\n",
    "\n",
    "for r in r_list:\n",
    "    x0 = 0.2 # começamos sempre com x0=0.2\n",
    "\n",
    "    # pulando o tempo de transiente\n",
    "    for iter in range(transient):\n",
    "        x0 = mapa_logistico(x0, r)\n",
    "\n",
    "    # após pular o transiente, salvamos os pontos nos dois arrays\n",
    "    # chamados eixo_horizontal e eixo_vertical\n",
    "    for iter in range(maxiter):\n",
    "        x0 = mapa_logistico(x0, r)\n",
    "\n",
    "        eixo_horizontal[nponto] = r\n",
    "        eixo_vertical[nponto] = x0\n",
    "        nponto += 1\n",
    "\n",
    "plt.xlabel('R')\n",
    "plt.ylabel('x')\n",
    "plt.plot(eixo_horizontal, eixo_vertical, 'o', markersize=0.1)\n",
    "plt.show()\n"
   ]
  }
 ],
 "metadata": {
  "kernelspec": {
   "display_name": "FisComp",
   "language": "python",
   "name": "python3"
  },
  "language_info": {
   "codemirror_mode": {
    "name": "ipython",
    "version": 3
   },
   "file_extension": ".py",
   "mimetype": "text/x-python",
   "name": "python",
   "nbconvert_exporter": "python",
   "pygments_lexer": "ipython3",
   "version": "3.13.2"
  }
 },
 "nbformat": 4,
 "nbformat_minor": 2
}
